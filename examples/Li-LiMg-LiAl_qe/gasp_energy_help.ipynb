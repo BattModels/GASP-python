{
 "cells": [
  {
   "cell_type": "code",
   "execution_count": 5,
   "metadata": {},
   "outputs": [],
   "source": [
    "from glob import glob\n",
    "import os \n",
    "from ase.db import connect \n",
    "from ase.io import read"
   ]
  },
  {
   "cell_type": "code",
   "execution_count": 6,
   "metadata": {},
   "outputs": [
    {
     "name": "stdout",
     "output_type": "stream",
     "text": [
      "61.pwo not coverge\n",
      "54.pwo not coverge\n",
      "10.pwo not coverge\n"
     ]
    }
   ],
   "source": [
    "#generate database\n",
    "output_lst=glob('./garun_8_12_2023_22_17_49/temp/*/*.pwo')\n",
    "if os.path.exists('run_data.db'):\n",
    "    os.remove('run_data.db')\n",
    "ase_db = connect('run_data.db')\n",
    "for i,output in enumerate(output_lst):\n",
    "    converge = False\n",
    "    with open(output,'r') as f:\n",
    "        for line in f:\n",
    "            if 'JOB' in line and 'DONE.' in line:\n",
    "                converge = True\n",
    "    if not converge:\n",
    "        print(f\"{output.split('/')[-1]} not coverge\")\n",
    "        continue\n",
    "    atoms = read(output)\n",
    "    entry_id = output.split('/')[-4]+'.'+output.split('/')[-1].split('.')[0]\n",
    "    ase_db.write(atoms,entry_id=entry_id)"
   ]
  },
  {
   "cell_type": "code",
   "execution_count": null,
   "metadata": {},
   "outputs": [],
   "source": []
  }
 ],
 "metadata": {
  "kernelspec": {
   "display_name": "gasp-qe",
   "language": "python",
   "name": "python3"
  },
  "language_info": {
   "codemirror_mode": {
    "name": "ipython",
    "version": 3
   },
   "file_extension": ".py",
   "mimetype": "text/x-python",
   "name": "python",
   "nbconvert_exporter": "python",
   "pygments_lexer": "ipython3",
   "version": "3.9.17"
  },
  "orig_nbformat": 4
 },
 "nbformat": 4,
 "nbformat_minor": 2
}
