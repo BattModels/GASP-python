{
 "cells": [
  {
   "cell_type": "markdown",
   "metadata": {},
   "source": [
    "### Setup the running environment \n",
    "Assuming you have conda install on you system and this is running on your Jupyter Notebook server:\n",
    "1. create a new environment (HINT: `conda create -n phase-diagram python=3.9`) and activate (`conda activate phase-diagram`)\n",
    "2. install pymatgen and ase (copy this line to the next empty cell `!conda install -y pymatgen ase`)\n",
    "With that, you can run the following code!\n",
    "\n",
    "code creator: Kian Pu. If you have any questions of using this code, please email/slack me. "
   ]
  },
  {
   "cell_type": "code",
   "execution_count": 1,
   "metadata": {},
   "outputs": [
    {
     "name": "stderr",
     "output_type": "stream",
     "text": [
      "/jet/home/jpu/softwares/envs/gasp-qe/lib/python3.9/site-packages/tqdm/auto.py:21: TqdmWarning: IProgress not found. Please update jupyter and ipywidgets. See https://ipywidgets.readthedocs.io/en/stable/user_install.html\n",
      "  from .autonotebook import tqdm as notebook_tqdm\n"
     ]
    }
   ],
   "source": [
    "from pymatgen.analysis.phase_diagram import PDPlotter,CompoundPhaseDiagram\n",
    "from pymatgen.entries.computed_entries import ComputedEntry\n",
    "from pymatgen.io.ase import AseAtomsAdaptor\n",
    "%matplotlib inline\n",
    "\n",
    "import pandas\n",
    "from ase.db import connect"
   ]
  },
  {
   "cell_type": "code",
   "execution_count": 2,
   "metadata": {},
   "outputs": [],
   "source": [
    "database_name = input('What is your database name?')"
   ]
  },
  {
   "cell_type": "code",
   "execution_count": 3,
   "metadata": {},
   "outputs": [],
   "source": [
    "ase_db = connect(database_name)\n",
    "AAA=AseAtomsAdaptor()"
   ]
  },
  {
   "cell_type": "code",
   "execution_count": 4,
   "metadata": {},
   "outputs": [],
   "source": [
    "entries_lst = []\n",
    "endpoint_lst = []\n",
    "entry_dict={}\n",
    "for i,ID in enumerate(range(1,1+len(ase_db))):\n",
    "    atoms = ase_db.get_atoms(ID)\n",
    "    entry_id = ase_db.get(ID).entry_id\n",
    "    struc=AAA.get_structure(atoms)\n",
    "    composition = struc.composition\n",
    "    energy = atoms.get_potential_energy()\n",
    "    correction = 0 \n",
    "    entry = ComputedEntry(composition, energy, correction,entry_id=entry_id)\n",
    "    entries_lst.append(entry)\n",
    "    entry_dict[entry.entry_id] = i\n",
    "    #remember to change it to your end points index \n",
    "    if entry_id.split('.')[1].split('_')[0] in ['1','3']:\n",
    "        endpoint_lst.append(i)   \n",
    "    # if entry_id.split('.')[1] in ['B_ref_1','LiF_ref_1','F2_ref_1']:\n",
    "    #     print(i,composition)"
   ]
  },
  {
   "cell_type": "code",
   "execution_count": null,
   "metadata": {},
   "outputs": [],
   "source": [
    "pd = CompoundPhaseDiagram(entries_lst,\n",
    "                            [entries_lst[endpoint_lst[0]].composition,\n",
    "                            entries_lst[endpoint_lst[1]].composition,\n",
    "                            entries_lst[endpoint_lst[2]].composition]) #this is for tenary \n",
    "plotter = PDPlotter(pd,show_unstable=2,ternary_style='3d')\n",
    "fig=plotter.get_plot()\n",
    "fig.update_layout(\n",
    "    plot_bgcolor='black', #change it to other color if your system background is different\n",
    "    paper_bgcolor='black',\n",
    "    font=dict(color='white')\n",
    ")"
   ]
  },
  {
   "cell_type": "code",
   "execution_count": 12,
   "metadata": {},
   "outputs": [],
   "source": [
    "# Analyze phase diagram!\n",
    "formula_lst=[]\n",
    "stable_lst = []\n",
    "entry_id_lst =[]\n",
    "e_above_hull_lst = []\n",
    "decompose_lst =[]\n",
    "\n",
    "for e in pd.stable_entries:\n",
    "    formula_lst.append(entries_lst[entry_dict[e.as_dict()['entry_id']]].composition)\n",
    "    stable_lst.append('True')\n",
    "    entry_id_lst.append(e.as_dict()['entry_id'])\n",
    "    e_above_hull_lst.append(0)\n",
    "    decompose_lst.append('N/A')\n",
    "\n",
    "for e in pd.unstable_entries:\n",
    "    decomp, e_above_hull = pd.get_decomp_and_e_above_hull(e)\n",
    "    pretty_decomp = [(\"{}:{}\".format(entries_lst[entry_dict[e.as_dict()['entry_id']]].composition, k.as_dict()['entry_id']), round(v, 2)) for k, v in decomp.items()]\n",
    "    formula_lst.append(entries_lst[entry_dict[e.as_dict()['entry_id']]].composition)\n",
    "    stable_lst.append('false')\n",
    "    entry_id_lst.append(e.as_dict()['entry_id'])\n",
    "    e_above_hull_lst.append(\"%.3f\" % e_above_hull)\n",
    "    decompose_lst.append(pretty_decomp)\n",
    "\n",
    "analyze_dict={}\n",
    "analyze_dict['formula'] = formula_lst\n",
    "analyze_dict['stable'] = stable_lst\n",
    "analyze_dict['entry_id'] = entry_id_lst\n",
    "analyze_dict['e_above_hull (eV/atom)'] = e_above_hull_lst\n",
    "analyze_dict['decomposition'] = decompose_lst\n",
    "\n",
    "df=pandas.DataFrame.from_dict(analyze_dict)"
   ]
  },
  {
   "cell_type": "code",
   "execution_count": null,
   "metadata": {},
   "outputs": [],
   "source": [
    "df.head()"
   ]
  },
  {
   "cell_type": "code",
   "execution_count": 14,
   "metadata": {},
   "outputs": [],
   "source": [
    "df.to_csv('pd_report.csv')"
   ]
  }
 ],
 "metadata": {
  "kernelspec": {
   "display_name": "gasp-qe",
   "language": "python",
   "name": "python3"
  },
  "language_info": {
   "codemirror_mode": {
    "name": "ipython",
    "version": 3
   },
   "file_extension": ".py",
   "mimetype": "text/x-python",
   "name": "python",
   "nbconvert_exporter": "python",
   "pygments_lexer": "ipython3",
   "version": "3.9.17"
  },
  "orig_nbformat": 4
 },
 "nbformat": 4,
 "nbformat_minor": 2
}
